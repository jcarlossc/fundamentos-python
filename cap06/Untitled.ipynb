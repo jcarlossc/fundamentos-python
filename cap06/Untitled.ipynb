{
 "cells": [
  {
   "cell_type": "code",
   "execution_count": 2,
   "id": "8bbbd2eb",
   "metadata": {},
   "outputs": [],
   "source": [
    "teste = open(\"arquivos/arquivo1.txt\", \"r\")"
   ]
  },
  {
   "cell_type": "code",
   "execution_count": 4,
   "id": "ec12a4eb",
   "metadata": {},
   "outputs": [
    {
     "data": {
      "text/plain": [
       "'A Data Science Academy fornece cursos de alta qualidade e que transmitem muito conhecimento.'"
      ]
     },
     "execution_count": 4,
     "metadata": {},
     "output_type": "execute_result"
    }
   ],
   "source": [
    "teste.read()"
   ]
  },
  {
   "cell_type": "code",
   "execution_count": null,
   "id": "c5b0f720",
   "metadata": {},
   "outputs": [],
   "source": [
    "teste."
   ]
  }
 ],
 "metadata": {
  "kernelspec": {
   "display_name": "Python 3 (ipykernel)",
   "language": "python",
   "name": "python3"
  },
  "language_info": {
   "codemirror_mode": {
    "name": "ipython",
    "version": 3
   },
   "file_extension": ".py",
   "mimetype": "text/x-python",
   "name": "python",
   "nbconvert_exporter": "python",
   "pygments_lexer": "ipython3",
   "version": "3.9.13"
  }
 },
 "nbformat": 4,
 "nbformat_minor": 5
}
