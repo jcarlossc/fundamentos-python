{
 "cells": [
  {
   "cell_type": "code",
   "execution_count": 24,
   "id": "f920c0b3",
   "metadata": {},
   "outputs": [],
   "source": [
    "a = [3,6,9,8,2,5,7,1,4,10]"
   ]
  },
  {
   "cell_type": "code",
   "execution_count": 29,
   "id": "85838c5b",
   "metadata": {},
   "outputs": [],
   "source": [
    "b = len(a)"
   ]
  },
  {
   "cell_type": "code",
   "execution_count": 60,
   "id": "c5a2ba10",
   "metadata": {},
   "outputs": [
    {
     "name": "stdout",
     "output_type": "stream",
     "text": [
      "[3, 4, 4, 5, 5, 6, 7, 8, 9, 10]\n"
     ]
    }
   ],
   "source": [
    "for i in range(b):\n",
    "    for j in range(0, b - i - 1):\n",
    "        if(a[j] > a[j + 1]):\n",
    "            a[j], a[j+1] = a[j+1], a[j]\n",
    "print(a)"
   ]
  },
  {
   "cell_type": "code",
   "execution_count": null,
   "id": "837d5f7d",
   "metadata": {},
   "outputs": [],
   "source": []
  }
 ],
 "metadata": {
  "kernelspec": {
   "display_name": "Python 3 (ipykernel)",
   "language": "python",
   "name": "python3"
  },
  "language_info": {
   "codemirror_mode": {
    "name": "ipython",
    "version": 3
   },
   "file_extension": ".py",
   "mimetype": "text/x-python",
   "name": "python",
   "nbconvert_exporter": "python",
   "pygments_lexer": "ipython3",
   "version": "3.9.13"
  }
 },
 "nbformat": 4,
 "nbformat_minor": 5
}
